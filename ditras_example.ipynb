{
 "cells": [
  {
   "cell_type": "markdown",
   "metadata": {},
   "source": [
    "# Notebook to perform different simulation scenarios with DITRAS"
   ]
  },
  {
   "cell_type": "code",
   "execution_count": 8,
   "metadata": {
    "collapsed": false
   },
   "outputs": [],
   "source": [
    "from DITRAS import *\n",
    "import pandas as pd"
   ]
  },
  {
   "cell_type": "code",
   "execution_count": 4,
   "metadata": {
    "collapsed": false
   },
   "outputs": [],
   "source": [
    "# load the spatial tessellation of Trentino\n",
    "spatial_tessellation = load_spatial_tessellation('location2info_trentino')"
   ]
  },
  {
   "cell_type": "code",
   "execution_count": 5,
   "metadata": {
    "collapsed": false
   },
   "outputs": [
    {
     "name": "stdout",
     "output_type": "stream",
     "text": [
      "[Computing origin-destination matrix]\n",
      "od matrix shape (6256, 6256)\n",
      "Exec: [--------------------] 100%(6256, 6256)\n",
      "\n",
      "\t\ttime: 1.61 min\n"
     ]
    }
   ],
   "source": [
    "# compute the origin destination matrix\n",
    "_ = compute_od_matrix(spatial_tessellation, filename='od_matrix_trentino.pkl')"
   ]
  },
  {
   "cell_type": "markdown",
   "metadata": {},
   "source": [
    "## Simulate the mobility of 100 agents for one week using DITRAS as it is"
   ]
  },
  {
   "cell_type": "code",
   "execution_count": 6,
   "metadata": {
    "collapsed": true
   },
   "outputs": [],
   "source": [
    "# initialize a DITRAS object\n",
    "ditras = DITRAS(n_agents=100, length=168, diary_generator=MD(filename='diary_generator_1hour.pkl'),\n",
    "                 trajectory_generator=dEPR(rho=0.6, gamma=0.21), filename='ditras_100_168.csv')"
   ]
  },
  {
   "cell_type": "code",
   "execution_count": 7,
   "metadata": {
    "collapsed": false
   },
   "outputs": [
    {
     "name": "stdout",
     "output_type": "stream",
     "text": [
      "\n",
      "[Loading OD matrix]\n",
      "\n",
      "\t\ttime: 0.55 min\n",
      "od matrix shape (6256, 6256)\n",
      "\n",
      "[DITRAS simulation]\n",
      "\t100 agents\n",
      "\t168 time slots\n",
      "\tdiary gen: MD\n",
      "\ttraj gen: dEPR\n",
      "\n",
      "Exec: [--------------------] 100%\n",
      "\n",
      "Stats:\tfile lines 16800\n",
      "\t\tfile size 0.18527 MB\n",
      "\t\ttime: 0.57 min\n"
     ]
    }
   ],
   "source": [
    "# start the simulation of DITRAS\n",
    "ditras.start_simulation(spatial_tessellation, od_matrix_file='od_matrix_trentino.pkl')"
   ]
  },
  {
   "cell_type": "code",
   "execution_count": 11,
   "metadata": {
    "collapsed": false
   },
   "outputs": [
    {
     "data": {
      "text/html": [
       "<div>\n",
       "<table border=\"1\" class=\"dataframe\">\n",
       "  <thead>\n",
       "    <tr style=\"text-align: right;\">\n",
       "      <th></th>\n",
       "      <th>user</th>\n",
       "      <th>location</th>\n",
       "      <th>time_slot</th>\n",
       "    </tr>\n",
       "  </thead>\n",
       "  <tbody>\n",
       "    <tr>\n",
       "      <th>0</th>\n",
       "      <td>0</td>\n",
       "      <td>3443</td>\n",
       "      <td>0</td>\n",
       "    </tr>\n",
       "    <tr>\n",
       "      <th>1</th>\n",
       "      <td>0</td>\n",
       "      <td>3443</td>\n",
       "      <td>1</td>\n",
       "    </tr>\n",
       "    <tr>\n",
       "      <th>2</th>\n",
       "      <td>0</td>\n",
       "      <td>3443</td>\n",
       "      <td>2</td>\n",
       "    </tr>\n",
       "    <tr>\n",
       "      <th>3</th>\n",
       "      <td>0</td>\n",
       "      <td>3443</td>\n",
       "      <td>3</td>\n",
       "    </tr>\n",
       "    <tr>\n",
       "      <th>4</th>\n",
       "      <td>0</td>\n",
       "      <td>3443</td>\n",
       "      <td>4</td>\n",
       "    </tr>\n",
       "  </tbody>\n",
       "</table>\n",
       "</div>"
      ],
      "text/plain": [
       "   user  location  time_slot\n",
       "0     0      3443          0\n",
       "1     0      3443          1\n",
       "2     0      3443          2\n",
       "3     0      3443          3\n",
       "4     0      3443          4"
      ]
     },
     "execution_count": 11,
     "metadata": {},
     "output_type": "execute_result"
    }
   ],
   "source": [
    "# let's take a look at the data\n",
    "ditras_100_168 = pd.read_csv('ditras_100_168.csv')\n",
    "ditras_100_168.head()"
   ]
  },
  {
   "cell_type": "markdown",
   "metadata": {},
   "source": [
    "## Simulate the mobility of 100 agents for one week using the d-EPR model \n",
    "You can also use DITRAS as a modeling framework and combine different diary generators and trajectory generators. For example you can implement the <cite>[d-EPR model][1]</cite> by combining a WaitingTimeDiary generator and a d-EPR trajectory generator.\n",
    "\n",
    "[1]:http://www.nature.com/ncomms/2015/150908/ncomms9166/full/ncomms9166.html"
   ]
  },
  {
   "cell_type": "code",
   "execution_count": 14,
   "metadata": {
    "collapsed": true
   },
   "outputs": [],
   "source": [
    "# initialize the object\n",
    "d_epr = DITRAS(n_agents=100, length=168, diary_generator=WaitingTimeDiary(beta=0.8, tau=17),\n",
    "                 trajectory_generator=dEPR(rho=0.6, gamma=0.21), filename='dEPR_100_168.csv')"
   ]
  },
  {
   "cell_type": "code",
   "execution_count": 15,
   "metadata": {
    "collapsed": false
   },
   "outputs": [
    {
     "name": "stdout",
     "output_type": "stream",
     "text": [
      "\n",
      "[Loading OD matrix]\n",
      "\n",
      "\t\ttime: 0.49 min\n",
      "od matrix shape (6256, 6256)\n",
      "\n",
      "[DITRAS simulation]\n",
      "\t100 agents\n",
      "\t168 time slots\n",
      "\tdiary gen: WaitingTimeDiary\n",
      "\ttraj gen: dEPR\n",
      "\n",
      "Exec: [--------------------] 100%\n",
      "\n",
      "Stats:\tfile lines 16800\n",
      "\t\tfile size 0.185933 MB\n",
      "\t\ttime: 0.58 min\n"
     ]
    }
   ],
   "source": [
    "# start the simulation of DITRAS\n",
    "d_epr.start_simulation(spatial_tessellation, od_matrix_file='od_matrix_trentino.pkl')"
   ]
  },
  {
   "cell_type": "code",
   "execution_count": 16,
   "metadata": {
    "collapsed": false
   },
   "outputs": [
    {
     "data": {
      "text/html": [
       "<div>\n",
       "<table border=\"1\" class=\"dataframe\">\n",
       "  <thead>\n",
       "    <tr style=\"text-align: right;\">\n",
       "      <th></th>\n",
       "      <th>user</th>\n",
       "      <th>location</th>\n",
       "      <th>time_slot</th>\n",
       "    </tr>\n",
       "  </thead>\n",
       "  <tbody>\n",
       "    <tr>\n",
       "      <th>0</th>\n",
       "      <td>0</td>\n",
       "      <td>5816</td>\n",
       "      <td>0</td>\n",
       "    </tr>\n",
       "    <tr>\n",
       "      <th>1</th>\n",
       "      <td>0</td>\n",
       "      <td>5661</td>\n",
       "      <td>1</td>\n",
       "    </tr>\n",
       "    <tr>\n",
       "      <th>2</th>\n",
       "      <td>0</td>\n",
       "      <td>5661</td>\n",
       "      <td>2</td>\n",
       "    </tr>\n",
       "    <tr>\n",
       "      <th>3</th>\n",
       "      <td>0</td>\n",
       "      <td>5661</td>\n",
       "      <td>3</td>\n",
       "    </tr>\n",
       "    <tr>\n",
       "      <th>4</th>\n",
       "      <td>0</td>\n",
       "      <td>5022</td>\n",
       "      <td>4</td>\n",
       "    </tr>\n",
       "  </tbody>\n",
       "</table>\n",
       "</div>"
      ],
      "text/plain": [
       "   user  location  time_slot\n",
       "0     0      5816          0\n",
       "1     0      5661          1\n",
       "2     0      5661          2\n",
       "3     0      5661          3\n",
       "4     0      5022          4"
      ]
     },
     "execution_count": 16,
     "metadata": {},
     "output_type": "execute_result"
    }
   ],
   "source": [
    "# let's take a look at the data\n",
    "depr_100_168 = pd.read_csv('dEPR_100_168.csv')\n",
    "depr_100_168.head()"
   ]
  },
  {
   "cell_type": "code",
   "execution_count": null,
   "metadata": {
    "collapsed": true
   },
   "outputs": [],
   "source": []
  }
 ],
 "metadata": {
  "kernelspec": {
   "display_name": "Python 2",
   "language": "python",
   "name": "python2"
  },
  "language_info": {
   "codemirror_mode": {
    "name": "ipython",
    "version": 2
   },
   "file_extension": ".py",
   "mimetype": "text/x-python",
   "name": "python",
   "nbconvert_exporter": "python",
   "pygments_lexer": "ipython2",
   "version": "2.7.11+"
  }
 },
 "nbformat": 4,
 "nbformat_minor": 0
}
